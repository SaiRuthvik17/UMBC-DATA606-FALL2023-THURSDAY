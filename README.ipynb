{
 "cells": [
  {
   "attachments": {
    "Passport%20Size%20Photo.jpg": {
     "image/jpeg": "[encoded data removed]"
    }
   },
   "cell_type": "markdown",
   "id": "fbb532a5",
   "metadata": {},
   "source": [
    "![Passport%20Size%20Photo.jpg](attachment:Passport%20Size%20Photo.jpg)"
   ]
  },
  {
   "cell_type": "markdown",
   "id": "e0d33985",
   "metadata": {},
   "source": [
    "# Sai Ruthvik Anantapalli\n",
    "Catonsville, Maryland, 21228 | 443-851-1593 | sairuthvik@umbc.edu | www.linkedin.com/in/sai-ruthvik-anantapalli-884b43227"
   ]
  },
  {
   "cell_type": "markdown",
   "id": "48d9fb79",
   "metadata": {},
   "source": [
    "### Education\n",
    "\n",
    "**Masters in Data Science**, GPA:3.6, \n",
    "August 2022 - May 2024 (expected),\n",
    "University of Maryland Baltimore County, Baltimore, MD.\n",
    "- Machine Learning\n",
    "- Big Data Processing\n",
    "- Data Management\n",
    "\n",
    "\n",
    "**Bachelors of Technology (B.Tech) in Computer Science and Engineering**, GPA: 3.2, August 2018 - June 2022, B Vishnu Raju Institute of Technology, Hyderabad, India\n",
    "- C\n",
    "- Python\n",
    "- C++\n",
    "- Java\n",
    "- Database Management Systems\n",
    "- Data Structures\n",
    "- R\n",
    "- HTML and CSS\n",
    "- Computer Network\n",
    "- Optimization Techniques\n",
    "\n"
   ]
  },
  {
   "cell_type": "markdown",
   "id": "6ba0b680",
   "metadata": {},
   "source": [
    "### Skills\n",
    "\n",
    "- Python\n",
    "- C\n",
    "- SQL\n",
    "- HTML\n",
    "- Tableau\n",
    "- Excel\n",
    "- R\n",
    "- Machine Learning"
   ]
  },
  {
   "cell_type": "markdown",
   "id": "b0981fa0",
   "metadata": {},
   "source": [
    "### Projects\n",
    "\n",
    "#### Movie Box Office Success Prediction | 02/2017 - 04/2017\n",
    "\n",
    "Led a project applying advanced machine learning techniques to forecast movie success. Designed a predictive model utilizing revenue as the primary target variable. Leveraged data analysis to offer insights into factors influencing movie performance.\n",
    "\n",
    "#### Access It: Secure Data Transfer Application | 02/2018 - 06/2018\n",
    "\n",
    "Led the end-to-end creation of \"Access It,\" an innovative cross-platform application addressing the imperative of fortified data security in digital communication. Designed and built a user-friendly application interface using Python, ensuring a seamless user experience. Implemented state-of-the-art encryption and decryption algorithms to safeguard sensitive information during transmission. Prioritized user data privacy by integrating advanced encryption techniques, fostering trust and security in data sharing.\n",
    "\n",
    "#### Movie Recommender System | 03/2023 - 05/2023\n",
    "\n",
    "Analyzed data of over 10000 movies with its different attributes and performed exploratory data analysis to obtain valuable insights about relationship between various movies by using Numpy and Pandas. Used context based filtering to match the similar kinds of movies based on the features of the movies. Also used collaborative based filtering to get the user point of view to make the recommendation more the model more accurate. \n",
    "\n",
    "#### Cricket Match Analysis and Prediction | 04/2023 - 05/2023\n",
    "\n",
    "Led an in-depth data analysis on a 14-year cricket match data using Spark and Pandas. Conducted advanced data manipulation, exploratory analysis, and developed predictive models using machine learning algorithms. Extracted valuable insights for strategic decision-making, bridging sports analytics with data-driven management.\n",
    "\n",
    "\n",
    "\n"
   ]
  },
  {
   "cell_type": "markdown",
   "id": "bca2ee6d",
   "metadata": {},
   "source": [
    "### Certifications"
   ]
  },
  {
   "cell_type": "markdown",
   "id": "8eff395e",
   "metadata": {},
   "source": [
    "- Certification in Database Design and Programming with SQL by Oravle Academy.\n",
    "- Certification in 'Data Science' and 'R' in Sololearn.\n",
    "- Certification in R(basic) in Hackerrank."
   ]
  }
 ],
 "metadata": {
  "kernelspec": {
   "display_name": "Python 3 (ipykernel)",
   "language": "python",
   "name": "python3"
  },
  "language_info": {
   "codemirror_mode": {
    "name": "ipython",
    "version": 3
   },
   "file_extension": ".py",
   "mimetype": "text/x-python",
   "name": "python",
   "nbconvert_exporter": "python",
   "pygments_lexer": "ipython3",
   "version": "3.9.12"
  }
 },
 "nbformat": 4,
 "nbformat_minor": 5
}
